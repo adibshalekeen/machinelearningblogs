{
 "cells": [
  {
   "cell_type": "markdown",
   "metadata": {},
   "source": [
    "## ML Basics: Maximum Likelihood Estimation\n",
    "\n",
    "#### Introduction\n",
    "\n",
    "This is the first of a set of little blog-style post that I'm creating to get a better grasp on machine learning concepts. I'm mainly following the book \"Deep Learning\" by Ian Goodfellow, Yoshua Bengio and Aaron Courville [1], but if any other resources are used I'll be citing them underneath this introduction. While alot of these examples are going to be ones I take from [1] I think sometimes it helps to provide some context or explanation to an equation which is what I'm going to try to do throughought this series. If you see any mistakes please feel free to email me at adibfixeshismistakes@gmail.com.\n"
   ]
  },
  {
   "cell_type": "markdown",
   "metadata": {},
   "source": [
    "#### Additional Refernces\n",
    "https://towardsdatascience.com/probability-concepts-explained-maximum-likelihood-estimation-c7b4342fdbb1 [2] (Jonny Brooks-Bartlett)\n",
    "\n",
    "https://www.probabilitycourse.com/chapter8/8_2_0_point_estimation.php [3] (Hossein Pishro-Nik)\n",
    "\n",
    "https://towardsdatascience.com/mse-and-bias-variance-decomposition-77449dd2ff55 [4] (Maksym Zavershynskyi)\n",
    "\n",
    "https://www.math.ubc.ca/~pwalls/math-python/integration/riemann-sums/ [5] (Patrick Walls)"
   ]
  },
  {
   "cell_type": "markdown",
   "metadata": {},
   "source": [
    "#### Estimators\n",
    "\n",
    "Estimators are functions that can be used to provide the best possible estimate ($\\hat{\\theta}$) of some quantity of interest (${\\theta}$) where the true value $\\theta$ is some fixed quantity for the distribution. If you're thinking \"wow this is a very vague definition\", you're right, it is! If {$x^{(1)}, x^{(2)},...,x^{(m)}$} are a set of independent, identically distributed data points collected by sampling some random variable $X$. The *point estimator* is some function g such that:\n",
    "\n",
    "$$\\hat{\\theta} = g(x^{(1)}, x^{(2)}, ... x^{(m)})$$\n",
    "\n",
    "which means pretty much any function can be considered an estimator. If you are sampling some random variable ${X}$ with an unknown parametric probability density we can estimate the parameters of the model by making some educated guesses about the type of distribution the sample data best resembles. \n",
    "\n",
    "Using an example from [1], suppose we have our set of samples and they are distributed according to some gaussian distribution with unknown parameters $\\mu$ and $\\sigma^2$. We have:\n",
    "\n",
    "$$ P(x^{(i)}; \\mu; \\sigma^2) = N(x^{(i)}; \\mu; \\sigma^2) $$\n",
    "\n",
    "$$ P(x^{(i)}; \\mu; \\sigma^2) = \\frac{1}{\\sqrt{2\\pi\\sigma^2}}\\exp^{-\\frac{(x^{(i)} - \\mu)^2}{2\\sigma^2}}$$\n",
    "\n",
    "We dont know $\\mu$ or $\\sigma^2$, just that the sampled data may be modelled by a gaussian distribution, but we can estimate $\\hat{\\mu}$ by just taking the average value of all of the sampled points.\n",
    "\n",
    "$$\\hat{\\mu} = \\frac{1}{m}\\sum^{m}_{i=1}x^{(i)} $$"
   ]
  },
  {
   "cell_type": "markdown",
   "metadata": {},
   "source": [
    "#### Evaluating Estimators\n",
    "\n",
    "Notice that while this example has a pretty reasonable estimator for $\\hat{\\mu}$, the definition of an estimator makes no guarantees that the estimator will accurately predict the value that its trying to estimate. So we need some measure of how well an estimator will perform, or more importantly how closely it will come to the true value of $\\theta$. The *bias* and *variance* of an estimator are measures of its offset from the true value of $\\theta$ and how much it will vary as we apply the estimator to multiple independently sampled data sets. They are defined as:\n",
    "\n",
    "$$ Bias(\\hat{\\theta}) = E[\\hat{\\theta}] - \\theta $$\n",
    "\n",
    "$$ Variance = Var(\\hat{\\theta})$$\n",
    "\n",
    "Continuing the example from before, the bias for our estimator of $\\hat{\\mu}$ can be calculated as:\n",
    "\n",
    "$$\n",
    "\\begin{aligned}\n",
    "Bias(\\hat{\\mu}) &= E[\\hat{\\mu}] - \\mu \\\\\n",
    "                &= E[\\frac{1}{m}\\sum^{m}_{i=1}x^{(i)}] - \\mu \\\\\n",
    "                &= \\frac{1}{m}\\sum^{m}_{i=1}E[x^{(i)}] - \\mu \\\\\n",
    "                &= \\frac{1}{m}\\sum^{m}_{i=1}\\mu - \\mu \\\\\n",
    "                &= \\mu - \\mu \\\\\n",
    "                &= 0\n",
    "\\end{aligned}\n",
    "$$\n",
    "\n",
    "This shows that using the sample mean as an estimate for the gaussian mean parameter results in an unbiased estimator.\n",
    "\n",
    "Similarly we can try to calculate the variance of the estimator.\n",
    "\n",
    "$$\n",
    "\\begin{aligned}\n",
    "Var(\\hat{\\mu}) &= Var(\\frac{1}{m}\\sum^{m}_{i=1}x^{(i)}) \\\\\n",
    "               &= \\frac{1}{m}Var(\\sum^{m}_{i=1}x^{(i)}) \\\\\n",
    "               &= \\frac{1}{m}\\sum^{m}_{i=1}Var(x^{(i)}) \\\\\n",
    "               &= \\sigma^2\n",
    "\\end{aligned}\n",
    "$$\n",
    "\n",
    "While these metrics are useful ultimately what we want to do when choosing between estimators is to pick the one with the lowest amount of error between $\\hat{\\theta}$ and $\\theta$. Mean squared error does exactly this, and is defined as:\n",
    "\n",
    "$$\n",
    "\\begin{aligned}\n",
    "MSE(\\hat{\\theta}) &= E[(\\hat{\\theta} - \\theta)^2] \\\\\n",
    "                  &= E[(\\hat{\\theta}^2 - 2 \\hat{\\theta}\\theta + \\theta^2] \\\\\n",
    "                  &= E[(\\hat{\\theta}^2] - 2E[\\hat{\\theta}\\theta] + E[\\theta^2]\n",
    "\\end{aligned}\n",
    "$$\n",
    "\n",
    "I decomposed the equation a little bit to show you the dependence of the MSE on the bias and variance of an estimator. To complete this derivation we need to work out two other derivations.\n",
    "\n",
    "$$\n",
    "\\begin{aligned}\n",
    "Bias(\\hat{\\theta})^2 &= (E[\\hat{\\theta}] - \\theta)^2 \\\\\n",
    "                     &= (E[\\hat{\\theta}])^2 - 2E[\\hat{\\theta}\\theta] + E[\\theta^2] \\\\\n",
    "\\end{aligned}\n",
    "$$\n",
    "\n",
    "We assume that the real value $\\theta$ isn't a random variable, so its expectation is equal to its value. This leaves us with:\n",
    "\n",
    "$$\n",
    "\\begin{aligned}\n",
    "Bias(\\hat{\\theta})^2 &= (E[\\hat{\\theta}])^2 - 2\\theta E[\\hat{\\theta}] + \\theta^2 \\\\\n",
    "\\end{aligned}\n",
    "$$\n",
    "\n",
    "The second derivation we need is a decomposition of the variance of an estimator.\n",
    "\n",
    "$$\n",
    "\\begin{aligned}\n",
    "Var(\\hat{\\theta}) &= E[(\\hat{\\theta} - E[\\hat{\\theta}])^2] \\\\\n",
    "                  &= E[(\\hat{\\theta}^2 - 2\\hat{\\theta}E[\\hat{\\theta}] + (E[\\hat{\\theta}])^2] \\\\\n",
    "                  &= E[(\\hat{\\theta}^2] - 2E[\\hat{\\theta}E[\\hat{\\theta}]] + E[(E[\\hat{\\theta}])^2] \\\\\n",
    "                  &= E[(\\hat{\\theta}^2] - 2E[\\hat{\\theta}]^2 + E[\\hat{\\theta}]^2 \\\\\n",
    "                  &= E[(\\hat{\\theta}^2] - E[\\hat{\\theta}]^2\n",
    "\\end{aligned}\n",
    "$$\n",
    "\n",
    "A potentially non-obvious trick that is used in the derivation above is that $E[E[x]]$ is actually taking the expected value of a scalar non-random variable, so its equal to $E[x]$. This is how we are able to convert $2E[\\hat{\\theta}E[\\hat{\\theta}]] = 2E[\\hat{\\theta}]^2$ and likewise, $E[(E[\\hat{\\theta}])^2] = E[\\hat{\\theta}]^2$.\n",
    "\n",
    "Now finally, if we put these two derivations together:\n",
    "\n",
    "$$\n",
    "\\begin{aligned}\n",
    "Var(\\hat{\\theta}) + Bias(\\hat{\\theta})^2 &= E[(\\hat{\\theta}^2] - E[\\hat{\\theta}]^2 + (E[\\hat{\\theta}])^2 - 2E[\\hat{\\theta}\\theta] + E[\\theta^2] \\\\\n",
    "                                        &= E[(\\hat{\\theta}^2] + 2E[\\hat{\\theta}\\theta] + E[\\theta^2] \\\\\n",
    "                                        &= MSE(\\hat{\\theta})\n",
    "\\end{aligned}\n",
    "$$\n",
    "\n",
    "This might seem like a long walk for a small drink of water but this derivation of the bias-variance decomposition of the MSE shows that when comparing the viability of two seperate estimators we dont really care about the variance or bias independently, but rather the balance between then that achieves the lowest MSE (obviously ideally we want both of them to be low!)."
   ]
  },
  {
   "cell_type": "markdown",
   "metadata": {},
   "source": [
    "#### Estimators in Machine Learning\n",
    "So far I've only been talking about point estimators, but as mentionned earlier an estimator can also be a function. In this case instead of trying to estimate the value of some quantity $\\theta$ we are trying to estimate the relationship between two quantities. In this scenario we want to generate a function estimator on a training set of I.I.D data, and then use this estimator on a completely different set (the test data) to try and accurately predict. Suppose our desired output quantity is $y$ and we have a set of I.I.D data samples {$x^{(1)}, x^{(2)}..., x^{(m)}$} in some training dataset S. We want to find an estimate $\\hat{f}_S$ of some function f such that:\n",
    "\n",
    "$$\n",
    "y = f(x) + \\epsilon\n",
    "$$\n",
    "\n",
    "Where $\\epsilon$ represents all of the noise components of y that cannot be estimated from just $x$ alone with some probability distribution that is different from $S$. In this scenario we want to calculate MSE as:\n",
    "$$\n",
    "MSE = E[(y - \\hat{f}_S(x))^2]\n",
    "$$\n",
    "\n",
    "We can decompose this equation into some key components but we need to utilize some key identities of the variance and expected value of two random variables. The derivation for these identities are going to be omitted, since they're widely available online. Note both a and b in the identities below are random variables. These identities are identical to those presented in [4].\n",
    "\n",
    "$$\n",
    "\\begin{aligned}\n",
    "Var(a) &= E[a^2] - E^2[a]\\\\\n",
    "E[ab] &= E[a]E[b] + Cov(a,b) \\\\\n",
    "Var(a + b) &= Var(a) + Var(b) + 2Cov(a,b) \\\\\n",
    "Var(a - b) &= Var(a) + var(b) - 2Cov(a,b) \\\\\n",
    "Cov(a, b) &= 0\\ when\\ a\\ and\\ b\\ are\\ independent\n",
    "\\end{aligned}\n",
    "$$\n",
    "\n",
    "Now we can break down $MSE[\\hat{f(x)}]$.\n",
    "\n",
    "$$\n",
    "\\begin{aligned}\n",
    "MSE[\\hat{f(x)}] &= E[(y - \\hat{f(x)})^2] \\\\\n",
    "&= E[y^2] - 2E[y\\hat{f(x)}] + E[\\hat{f(x)}^2] \\\\\n",
    "&= Var(y) + E[y]^2 + Var(\\hat{f(x)}) + E[\\hat{f(x)}]^2 -2E[y\\hat{f(x)}] \\\\\n",
    "&= Var(y) + E[y]^2 + Var(\\hat{f(x)}) + E[\\hat{f(x)}]^2 -2E[(f(x) + \\epsilon)\\hat{f(x)}] \\\\\n",
    "&= Var(y) + E[y]^2 + Var(\\hat{f(x)}) + E[\\hat{f(x)}]^2 -2E[(f(x))(\\hat{f(x))}] -2E[\\epsilon\\hat{f(x)}]\n",
    "\\end{aligned}\n",
    "$$\n",
    "\n",
    "We can now take advantage of the fact that $y = f(x) + \\epsilon$. This has already been used to simplify the $-2E[y\\hat{f(x)}]$ term, but now we can apply it to get a variance and bias term in terms of $f(x)$ and $\\hat{f(x)$.\n",
    "\n",
    "$$\n",
    "\\begin{aligned}\n",
    "&= Var(f(x) + \\epsilon) + E[f(x) + \\epsilon]^2 + Var(\\hat{f(x)}) + E[\\hat{f(x)}]^2 -2E[(f(x))]E[(\\hat{f(x))}] - 2Cov(f(x), \\hat{f(x)}) -2E[\\epsilon\\hat{f(x)}] \\\\\n",
    "&= Var(f(x)) + Var(\\epsilon) - 2Cov(f(x), \\epsilon) + E[f(x)]^2 + 2E[\\epsilon]E[f(x)] + 2E[\\epsilon]^2 + Var(\\hat{f(x)}) + E[\\hat{f(x)}]^2 -2E[(f(x))]E[(\\hat{f(x))}] + Cov(f(x), \\hat{f(x)}) -2E[\\epsilon\\hat{f(x)}] \\\\\n",
    "&= Var(f(x) - \\hat{f(x)}) + E[f(x)]^2 - 2E[f(x)]E[\\hat{f(x)}] + E[\\hat{f(x)}]^2 + Var(\\epsilon) - 2Cov(f(x), \\epsilon) + 2E[\\epsilon]E[f(x)] + 2E[\\epsilon]^2 - 2E[\\epsilon\\hat{f(x)}]\\\\\n",
    "&= Var(f(x) - \\hat{f(x)}) + (E[f(x)] - E[\\hat{f(x)}])^2 + Var(\\epsilon) - 2Cov(f(x), \\epsilon) + 2E[\\epsilon]E[f(x)] + 2E[\\epsilon]^2 - 2E[\\epsilon\\hat{f(x)}]\n",
    "\\end{aligned}\n",
    "$$\n",
    "\n",
    "We can simplify this a little further by assuming that the noise term $\\epsilon$ is independent of our data set $S$, and that it has some constant mean $c$.\n",
    "\n",
    "$$\n",
    "\\begin{aligned}\n",
    "&= Var(f(x) - \\hat{f(x)}) + (E[f(x)] - E[\\hat{f(x)}])^2 + Var(\\epsilon) - 2cE[f(x)] + 2c^2 - 2cE[\\hat{f(x)}]\n",
    "\\end{aligned}\n",
    "$$\n",
    "\n",
    "This can be simplified further still if we assume our noise model has mean $c=0$.\n",
    "\n",
    "$$\n",
    "\\begin{aligned}\n",
    "&= Var(f(x) - \\hat{f(x)}) + (E[f(x)] - E[\\hat{f(x)}])^2 + Var(\\epsilon)\n",
    "\\end{aligned}\n",
    "$$\n",
    "\n",
    "We're left with an equation that is very similar to the bias-variance decomposition of the MSE for point estimators. The variance term is $Var(f(x) - \\hat{f(x)})$, measuring the amount of jitter we can expect the difference between the true model f(x) and $\\hat{f(x)}$ to be as we vary $S$. The bias term is $(E[f(x)] - E[\\hat{f(x)}])^2$, which is a measure of how well the estimator model will approximate the real model. Finally we have an additional term $Var(\\epsilon)$ which is a measure of how much the noise term will impact the system. "
   ]
  },
  {
   "cell_type": "markdown",
   "metadata": {},
   "source": [
    "#### Maximum Likelihood Estimation\n",
    "So far most of the analysis in this post has been about evaluating estimators, but no explanation has been given as to how we actually generate these estimators. Maximum likelihood estimation is a very simple algorithm for generating an estimator for parameter values of some data model. It states that we should pick the value of $\\hat{\\theta}$ that gives us the highest probability of observing our training data. Mathematically we can define this as the optimization of the maximum of some likelihood function $L$ operating on the training data {$x_1,x_2,...x_m$} and the unknown parameter values $\\hat{\\theta}$. We need to make a differentiation between $X_1$, which is the first sampling of random variable $X$ and $x_1$ which is the outcome of the first sampling of random variable $X$.\n",
    "\n",
    "$$\n",
    "L(x_{(1)},x_{(2)},...x_{(m)}; \\hat{\\theta}) = P(X_1 = x_1,X_2 = x_2,X_m = x_m;\\hat{\\theta})\n",
    "$$\n",
    "\n",
    "Where $P$ is the probability distribution (if X is a continuous random variable) or probability mass function (if X is a discrete random varaible). Now the maximum likelihood estimate $\\hat{\\theta}_{ML}$ is the value of $\\hat{\\theta}$ that maximizes $L(x_1,x_2,...x_m;\\hat{\\theta}$. We can also do this for a vector of parameters $\\hat{\\theta}_1,\\hat{\\theta}_2,...\\hat{\\theta}_m$ rather than a single value, adapting from using it as a point estimator to a function estimator instead.\n",
    "\n",
    "Lets look at some simple examples. Consider a set of data modeled by random variable $X$ with a normal distribution $N(X; \\mu, \\sigma^2)$. Suppose we want to estimate the mean $\\mu$ and variance $\\sigma^2$ of $X$ using a sample data set {$x_1,x_2,...x_m$}.\n",
    "\n",
    "$$\n",
    "\\begin{aligned}\n",
    "P(X; \\mu, \\sigma^2) &= \\frac{1}{\\sqrt{2\\pi\\sigma^2}}\\exp^{-\\frac{(X - \\mu)^2}{2\\sigma^2}} \\\\\n",
    "\\end{aligned}\n",
    "$$"
   ]
  },
  {
   "cell_type": "markdown",
   "metadata": {},
   "source": [
    "A standard method for finding the maximum of a function is to look at its first derivative with respect to the variable that we're trying to optimize. Since we have two unknowns in this situation we can do this by taking the partial derivatives $\\frac{dL}{d\\mu}$ and $\\frac{dL}{d\\sigma^2}$. Before differentiating, its a good idea to take the natural log of $L$ to make the differentiation process easier. We're able to do this because the logarithmic function is a montonic increasing function the peak of our exponential function and the peak of its natural log will be at the same spot, and we are only interested in the location of the peak during for optimization. Now, assuming that each sample is I.I.D we can find the partial derivatives.\n",
    "\n",
    "$$\n",
    "\\begin{aligned}\n",
    "\\ln{L(x_1,x_2,...x_m; \\mu, \\sigma^2)} &= \\ln{\\frac{1}{(2\\pi\\sigma^2)^{\\frac{n}{2}}}\\exp^{-\\frac{\\sum^{m}_{i=1}(x_i - \\mu)^2}{2\\sigma^2}}}\\\\\n",
    "&= ln{\\frac{1}{(2\\pi\\sigma^2)^{\\frac{n}{2}}}} - \\frac{1}{2\\sigma^2}\\sum^{m}_{i=1}(x - \\mu)^2\\\\\n",
    "&= -\\ln{(2\\pi\\sigma^2)^{\\frac{n}{2}}} - \\frac{1}{2\\sigma^2}\\sum^{m}_{i=1}(x - \\mu)^2\\\\\n",
    "&= -\\frac{n}{2}\\ln{2\\pi\\sigma^2} - \\frac{1}{2\\sigma^2}\\sum^{m}_{i=1}(x - \\mu)^2\\\\\n",
    "&= -\\frac{n}{2}\\ln{2\\pi} - \\frac{n}{2}\\ln{\\sigma^2} - \\frac{1}{2\\sigma^2}\\sum^{m}_{i=1}(x - \\mu)^2\\\\\n",
    "\\end{aligned}\n",
    "$$"
   ]
  },
  {
   "cell_type": "markdown",
   "metadata": {},
   "source": [
    "$$\n",
    "\\begin{aligned}\n",
    "\\frac{dL}{d\\mu} &= \\frac{1}{\\sigma^2}\\sum^{m}_{i=1}(x_i - \\mu)\\\\\n",
    "\\frac{dL}{d\\sigma^2} &= -\\frac{n}{2\\sigma^2} + \\frac{1}{2\\sigma^4}\\sum^m_{i=1}(x_i - \\mu)^2\n",
    "\\end{aligned}\n",
    "$$"
   ]
  },
  {
   "cell_type": "markdown",
   "metadata": {},
   "source": [
    "To find the maxima, we have to set $\\frac{dL}{d\\mu}$ and $\\frac{dL}{d\\sigma^2}$ to 0 and solve for $\\mu$ and $\\sigma^2$ respectively.\n",
    "\n",
    "$$\n",
    "\\begin{aligned}\n",
    "0 &= \\frac{dL}{d\\mu}\\\\\n",
    "0 &= \\frac{1}{\\sigma^2}\\sum^{m}_{i=1}(x_i - \\mu) \\\\\n",
    "0 &= \\sum^{m}_{i=1}(x_i - \\mu) \\\\\n",
    "0 &= \\sum^{m}_{i=1}x_i - \\sum^{m}_{i=1}\\mu \\\\\n",
    "0 &= \\sum^{m}_{i=1}x_i - m\\mu\\\\\n",
    "\\mu &= \\frac{1}{m}\\sum^{m}_{i=1}x_i\n",
    "\\end{aligned}\n",
    "$$\n",
    "Interestingly, MLE converges on the sample mean as the estimator for the gaussian mean, and from the estimator evaluaation section we know that the sample mean is an unbiased estimator of the gaussian mean so the mean-squared error is likely to be low.\n",
    "$$\n",
    "\\begin{aligned}\n",
    "0 &= -\\frac{n}{2\\sigma^2} + \\frac{1}{2\\sigma^4}\\sum^m_{i=1}(x_i - \\mu)^2\\\\\n",
    "0 &= -\\frac{n\\sigma^2}{2} + \\sum^m_{i=1}(x_i - \\mu)^2\\\\\n",
    "\\sigma^2 &= \\frac{2}{n}\\sum^m_{i=1}(x_i - \\mu)^2\n",
    "\\end{aligned}\n",
    "$$\n",
    "Likewise MLE converges on an equation that is very close to the sample variance as the optimal estimator for the gaussian variance. Lets look at this working in code!"
   ]
  },
  {
   "cell_type": "markdown",
   "metadata": {},
   "source": [
    "First lets generate a gaussian function to model our probability distribution."
   ]
  },
  {
   "cell_type": "code",
   "execution_count": 56,
   "metadata": {},
   "outputs": [
    {
     "data": {
      "image/png": "[encoded data removed]",
      "text/plain": [
       "<Figure size 432x288 with 3 Axes>"
      ]
     },
     "metadata": {
      "needs_background": "light"
     },
     "output_type": "display_data"
    }
   ],
   "source": [
    "%matplotlib inline\n",
    "import functools\n",
    "import matplotlib.pyplot as plt\n",
    "import numpy as np\n",
    "\n",
    "def gaussian(mean, variance, x):\n",
    "    '''Samples a gaussian distribution with specified mean and variance'''\n",
    "    return (1 / np.sqrt((2 * np.pi * variance))) * np.exp(-0.5 * (((x - mean)**2)/(variance)))\n",
    "\n",
    "def integrate(f, xaxis, dx):\n",
    "    '''Calculate the midpoint Riemann sum integral approximation for function f'''\n",
    "    mid_points = (xaxis[:-1] + xaxis[1:]) / 2\n",
    "    return mid_points, np.cumsum(f(mid_points)) * dx\n",
    "\n",
    "def gaussian_sampling(num_samples, mean, variance):\n",
    "    '''Generates an array of random gaussian distributed points with a parametric distribution\n",
    "       defined by mean and variance'''\n",
    "    samples = np.random.rand(num_samples)\n",
    "    xmin = 0.05 * mean\n",
    "    xmax = 2.05 * mean\n",
    "    linear_space = np.linspace(xmin, xmax, num_samples)\n",
    "    dx = (xmax - xmin) / num_samples\n",
    "    integral_x, integral_y = integrate(functools.partial(gaussian, mean, variance), linear_space, dx)\n",
    "    points = []\n",
    "    for sample in samples:\n",
    "        try:\n",
    "            points.append(integral_x[(np.where(integral_y >= sample))[0][0]])\n",
    "        except IndexError:\n",
    "            # The randomly generated sample is too close to 1 for us to produce a result with\n",
    "            # the given number of samples. Ignore it and move on with life.\n",
    "            continue\n",
    "    return points\n",
    "\n",
    "\n",
    "GROUND_TRUTH_MEAN = 20\n",
    "GROUND_TRUTH_VARIANCE = 2\n",
    "X_MIN = 0\n",
    "X_MAX = 40\n",
    "N_SAMPLE = 150\n",
    "dx = (X_MAX - X_MIN) / N_SAMPLE\n",
    "\n",
    "linear_sample = np.linspace(X_MIN, X_MAX, N_SAMPLE)\n",
    "\n",
    "fig = plt.figure()\n",
    "pdf = plt.subplot(1,3,1)\n",
    "pdf.set_xlim(X_MIN, X_MAX)\n",
    "pdf.set_title(\"Probability Distribution\")\n",
    "\n",
    "cdf = plt.subplot(1,3,2)\n",
    "cdf.set_xlim(X_MIN, X_MAX)\n",
    "cdf.set_ylim(0, 1.5)\n",
    "cdf.set_title(\"Cumulative Distribution\")\n",
    "\n",
    "gaussian_random_samples = plt.subplot(1,3,3)\n",
    "gaussian_random_samples.set_xlim(GROUND_TRUTH_MEAN  - 5 * GROUND_TRUTH_VARIANCE, GROUND_TRUTH_MEAN  + 5 * GROUND_TRUTH_VARIANCE)\n",
    "gaussian_random_samples.set_ylim(-0.05 , 0.05)\n",
    "gaussian_random_samples.set_title(\"Gaussian Random Samples\")\n",
    "plt.subplots_adjust(bottom=0.1, right=1.8, top=0.9)\n",
    "\n",
    "pdf.plot(linear_sample,\n",
    "         gaussian(GROUND_TRUTH_MEAN, GROUND_TRUTH_VARIANCE, linear_sample),\n",
    "         label=\"Gaussian Probability Distribution\")\n",
    "\n",
    "data_dist = functools.partial(gaussian, GROUND_TRUTH_MEAN, GROUND_TRUTH_VARIANCE)\n",
    "integral_x, integral_y = integrate(data_dist, linear_sample, dx)\n",
    "cdf.plot(integral_x, integral_y)\n",
    "cdf.bar(integral_x, data_dist(integral_x), width=(X_MAX - X_MIN)/ N_SAMPLE, alpha=0.2, edgecolor='b')\n",
    "\n",
    "samples = np.array(gaussian_sampling(200, GROUND_TRUTH_MEAN, GROUND_TRUTH_VARIANCE))\n",
    "gaussian_random_samples.scatter(samples, np.zeros(samples.size), s=0.1)\n",
    "\n",
    "plt.show()\n"
   ]
  },
  {
   "cell_type": "markdown",
   "metadata": {},
   "source": [
    "Looks good! Above we have a gaussian probability distribution function that we've defined with $\\mu$ = GROUND_TRUTH_MEAN and\n",
    "\n",
    "$\\sigma^2$ = GROUND_TRUTH_VARIANCE. The parameters are defined as \"ground truth\" because they are the true parametric values of the data model. I decided to write my own functions to generate the gaussian distribution, cumulative distribution and randomly sampled gaussian distributed points but this was just done for my own understanding and they can easily be replaced with the scipi python module instead. Now we'll try to use maximum likelihood estimation to try and get a good estimate $\\hat{\\mu}$ and $\\hat{\\sigma^2}$ from our gaussian data samples. For this sample case we can find the first derivative of the likelihood function, but we won't always be able to do that. So lets start from the ground up, assuming all we know is that we think that the sample data is distributed as a gaussian function."
   ]
  },
  {
   "cell_type": "code",
   "execution_count": 72,
   "metadata": {},
   "outputs": [
    {
     "name": "stdout",
     "output_type": "stream",
     "text": [
      "Optimal Mean: 20.202020202020204\n",
      "Optimal Variance 2.5757575757575757\n"
     ]
    },
    {
     "data": {
      "image/png": "[encoded data removed]",
      "text/plain": [
       "<Figure size 432x288 with 2 Axes>"
      ]
     },
     "metadata": {
      "needs_background": "light"
     },
     "output_type": "display_data"
    }
   ],
   "source": [
    "def gaussian_likelihood(mean, variance, x):\n",
    "    '''Sample the likelihood function of a gaussian distribution with mean and variance'''\n",
    "    num_samples = x.size\n",
    "    term1 = -0.5 * num_samples * np.log(2 * np.pi)\n",
    "    term2 = -0.5 * num_samples * np.log(variance)\n",
    "    term3 = (-1 / (2 * variance)) * (np.sum((x-mean)**2))\n",
    "    return term1 + term2 + term3\n",
    "\n",
    "mean_estimates = np.linspace(0, 100, 100)\n",
    "CONST_VAR = 5\n",
    "likelihood = []\n",
    "for mean in mean_estimates:\n",
    "    likelihood.append(gaussian_likelihood(mean, CONST_VAR, samples))\n",
    "mle_mean = plt.subplot(121)\n",
    "mle_mean.set_title(\"MLE Mean\")\n",
    "mle_mean.plot(mean_estimates, likelihood)\n",
    "likelihood = np.array(likelihood)\n",
    "optimal_mean = mean_estimates[np.argmax(likelihood)]\n",
    "print(f\"Optimal Mean: {optimal_mean}\")\n",
    "\n",
    "variance_estimates = np.linspace(1, 40, 100)\n",
    "CONST_MEAN = optimal_mean\n",
    "likelihood = []\n",
    "for variance in variance_estimates:\n",
    "    likelihood.append(gaussian_likelihood(CONST_MEAN, variance, samples))\n",
    "mle_variance = plt.subplot(122)\n",
    "mle_variance.set_title(\"MLE Variance\")\n",
    "mle_variance.plot(variance_estimates, likelihood)\n",
    "optimal_variance = variance_estimates[np.argmax(likelihood)]\n",
    "print(f\"Optimal Variance {optimal_variance}\")\n",
    "\n",
    "plt.subplots_adjust(bottom=0.1, right=1.8, top=0.9)\n",
    "plt.show()"
   ]
  },
  {
   "cell_type": "markdown",
   "metadata": {},
   "source": [
    "Now lets see how a gaussian distribution defined with these estimates compares to our ground truth model."
   ]
  },
  {
   "cell_type": "code",
   "execution_count": 76,
   "metadata": {},
   "outputs": [
    {
     "data": {
      "image/png": "[encoded data removed]",
      "text/plain": [
       "<Figure size 432x288 with 1 Axes>"
      ]
     },
     "metadata": {
      "needs_background": "light"
     },
     "output_type": "display_data"
    }
   ],
   "source": [
    "compr = plt.subplot(111)\n",
    "compr.plot(linear_sample, gaussian(GROUND_TRUTH_MEAN, GROUND_TRUTH_VARIANCE, linear_sample), label=\"Ground Truth\")\n",
    "compr.plot(linear_sample, gaussian(optimal_mean, optimal_variance, linear_sample), label=\"Estimate\")\n",
    "compr.legend()\n",
    "plt.show()"
   ]
  },
  {
   "cell_type": "markdown",
   "metadata": {},
   "source": [
    "The results arent bad, but notice that to make the initial estimate for the MLE mean a constant variance had to be picked. What happens if this constant value varies?"
   ]
  },
  {
   "cell_type": "code",
   "execution_count": null,
   "metadata": {},
   "outputs": [],
   "source": []
  }
 ],
 "metadata": {
  "kernelspec": {
   "display_name": "Python 3",
   "language": "python",
   "name": "python3"
  },
  "language_info": {
   "codemirror_mode": {
    "name": "ipython",
    "version": 3
   },
   "file_extension": ".py",
   "mimetype": "text/x-python",
   "name": "python",
   "nbconvert_exporter": "python",
   "pygments_lexer": "ipython3",
   "version": "3.7.7"
  }
 },
 "nbformat": 4,
 "nbformat_minor": 4
}
